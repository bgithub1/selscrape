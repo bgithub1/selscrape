{
 "cells": [
  {
   "cell_type": "markdown",
   "metadata": {},
   "source": [
    "## Examples \n",
    "1. Use the class CraigAccess to get a fully detailed pandas DataFrame of car info from craigslist"
   ]
  },
  {
   "cell_type": "code",
   "execution_count": null,
   "metadata": {},
   "outputs": [],
   "source": [
    "import sel_scrape as sc\n",
    "import craig_access as ca\n",
    "import pandas as pd\n",
    "import datetime"
   ]
  },
  {
   "cell_type": "code",
   "execution_count": null,
   "metadata": {},
   "outputs": [],
   "source": [
    "pd.set_option('display.max_colwidth', -1)"
   ]
  },
  {
   "cell_type": "code",
   "execution_count": null,
   "metadata": {},
   "outputs": [],
   "source": [
    "make = 'Porsche'\n",
    "model = '911 Carrera 4S' # 328i, 5 series\n",
    "ca_porsche_911 = ca.CraigAccess(make=make,model=model,headless=False)"
   ]
  },
  {
   "cell_type": "code",
   "execution_count": null,
   "metadata": {
    "scrolled": true
   },
   "outputs": [],
   "source": [
    "df_porsche_911 = ca_porsche_911.main()"
   ]
  },
  {
   "cell_type": "code",
   "execution_count": null,
   "metadata": {},
   "outputs": [],
   "source": [
    "df_porsche_911_2 = df_porsche_911.drop_duplicates(subset='page_title')"
   ]
  },
  {
   "cell_type": "code",
   "execution_count": null,
   "metadata": {
    "scrolled": true
   },
   "outputs": [],
   "source": [
    "df_porsche_911_2.sort_values('geo').href"
   ]
  },
  {
   "cell_type": "code",
   "execution_count": null,
   "metadata": {},
   "outputs": [],
   "source": [
    "df_porsche_911.columns.values"
   ]
  },
  {
   "cell_type": "code",
   "execution_count": null,
   "metadata": {},
   "outputs": [],
   "source": [
    "len(df_porsche_911[df_porsche_911.transmission=='manual'])"
   ]
  },
  {
   "cell_type": "code",
   "execution_count": null,
   "metadata": {},
   "outputs": [],
   "source": [
    "print(len(df_porsche_911[(df_porsche_911.transmission=='manual') & (df_porsche_911.page_text.str.lower().str.contains('1996'))]))\n",
    "\n"
   ]
  },
  {
   "cell_type": "code",
   "execution_count": null,
   "metadata": {},
   "outputs": [],
   "source": [
    "df_temp = df_porsche_911[(df_porsche_911.transmission=='manual') & (df_porsche_911.page_text.str.lower().str.contains('1996'))]\n",
    "df_temp.sort_values('geo').href"
   ]
  },
  {
   "cell_type": "code",
   "execution_count": null,
   "metadata": {},
   "outputs": [],
   "source": [
    "df_porsche_911.drop_duplicates(subset='page_title').href"
   ]
  },
  {
   "cell_type": "markdown",
   "metadata": {},
   "source": [
    "#### 3.02 Search all geos for bmw 2002, before 1970.  This takes a bit of time."
   ]
  },
  {
   "cell_type": "code",
   "execution_count": null,
   "metadata": {},
   "outputs": [],
   "source": [
    "print(f'start search at {datetime.datetime.now()}')\n",
    "urls_only = False\n",
    "ca_bmw_2002 = ca.CraigAccess(headless=False,\n",
    "        make='BMW',\n",
    "        model='2002')\n",
    "df_bmw_2002 = ca_bmw_2002.main()\n",
    "print(f'end search at {datetime.datetime.now()}')"
   ]
  },
  {
   "cell_type": "code",
   "execution_count": null,
   "metadata": {},
   "outputs": [],
   "source": [
    "df_bmw_2002.drop_duplicates(subset='page_title').href"
   ]
  },
  {
   "cell_type": "code",
   "execution_count": null,
   "metadata": {},
   "outputs": [],
   "source": [
    "print(f'start search at {datetime.datetime.now()}')\n",
    "urls_only = False\n",
    "ca_bmw_5_series = ca.CraigAccess(headless=False,\n",
    "        make='BMW',\n",
    "        model='5+series',max_auto_year=2000)\n",
    "df_bmw_5_series = ca_bmw_5_series.main()\n",
    "print(f'end search at {datetime.datetime.now()}')"
   ]
  },
  {
   "cell_type": "code",
   "execution_count": null,
   "metadata": {},
   "outputs": [],
   "source": [
    "df_bmw_5_series.drop_duplicates(subset='page_title').href"
   ]
  },
  {
   "cell_type": "code",
   "execution_count": null,
   "metadata": {},
   "outputs": [],
   "source": []
  }
 ],
 "metadata": {
  "kernelspec": {
   "display_name": "Python 3",
   "language": "python",
   "name": "python3"
  },
  "language_info": {
   "codemirror_mode": {
    "name": "ipython",
    "version": 3
   },
   "file_extension": ".py",
   "mimetype": "text/x-python",
   "name": "python",
   "nbconvert_exporter": "python",
   "pygments_lexer": "ipython3",
   "version": "3.6.5"
  }
 },
 "nbformat": 4,
 "nbformat_minor": 2
}
