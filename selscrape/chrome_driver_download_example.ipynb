{
 "cells": [
  {
   "cell_type": "markdown",
   "metadata": {},
   "source": [
    "### Chrome driver upload example"
   ]
  },
  {
   "cell_type": "code",
   "execution_count": 9,
   "metadata": {},
   "outputs": [],
   "source": [
    "import numpy as np\n",
    "import pandas as pd\n",
    "import chrome_driver_upload as cdu\n",
    "import sel_scrape as sc\n",
    "DOWNLOAD_CHROMEDRIVER=True"
   ]
  },
  {
   "cell_type": "code",
   "execution_count": 10,
   "metadata": {},
   "outputs": [],
   "source": [
    "def do_chrome_download():\n",
    "    '''\n",
    "    If you attempt to instantiate a sel_scape.SelScrape instance, you get this error:\n",
    "        \n",
    "        SessionNotCreatedException: Message: session not created: \n",
    "           This version of ChromeDriver only supports Chrome version 80\n",
    "    \n",
    "    then, you should call this routine to install a version of chromedriver that coincides\n",
    "    with your current installation of your chrome browser.\n",
    "    '''\n",
    "    cdu.download_chromedriver()\n",
    "    "
   ]
  },
  {
   "cell_type": "code",
   "execution_count": 11,
   "metadata": {},
   "outputs": [],
   "source": [
    "# set DOWNLOAD_CHROMEDRIVER to True above (after the imports) to call install a new\n",
    "#  chromedriver for selenium\n",
    "if DOWNLOAD_CHROMEDRIVER:\n",
    "    do_chrome_download()\n",
    "    DOWNLOAD_CHROMEDRIVER=False\n"
   ]
  },
  {
   "cell_type": "code",
   "execution_count": 12,
   "metadata": {},
   "outputs": [],
   "source": [
    "sac = sc.SelScrape(headless=False,driver_name='chrome')#,profile_path=pp)\n",
    "sac.goto('https://www.cmegroup.com/tools-information/quikstrike/options-calendar.html')\n"
   ]
  },
  {
   "cell_type": "code",
   "execution_count": null,
   "metadata": {},
   "outputs": [],
   "source": []
  }
 ],
 "metadata": {
  "kernelspec": {
   "display_name": "Python 3",
   "language": "python",
   "name": "python3"
  },
  "language_info": {
   "codemirror_mode": {
    "name": "ipython",
    "version": 3
   },
   "file_extension": ".py",
   "mimetype": "text/x-python",
   "name": "python",
   "nbconvert_exporter": "python",
   "pygments_lexer": "ipython3",
   "version": "3.6.5"
  }
 },
 "nbformat": 4,
 "nbformat_minor": 4
}
