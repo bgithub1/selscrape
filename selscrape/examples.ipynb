{
 "cells": [
  {
   "cell_type": "markdown",
   "metadata": {},
   "source": [
    "## Examples \n",
    "1. Use the class SelScrape to get hourly data from weather.com\n",
    "2. Use the class SelScrape to get information about a car from craigslist\n",
    "3. Use the class CraigAccess to get a fully detailed pandas DataFrame of car info from craigslist"
   ]
  },
  {
   "cell_type": "code",
   "execution_count": null,
   "metadata": {},
   "outputs": [],
   "source": [
    "import sel_scrape as sc\n",
    "import pandas as pd\n",
    "import datetime"
   ]
  },
  {
   "cell_type": "markdown",
   "metadata": {},
   "source": [
    "___\n",
    "### 1.0 Use SelScrape class to get weather data from weather.com\n",
    "___"
   ]
  },
  {
   "cell_type": "markdown",
   "metadata": {},
   "source": [
    "#### 1.01 Create and instance of SelScrape"
   ]
  },
  {
   "cell_type": "code",
   "execution_count": null,
   "metadata": {},
   "outputs": [],
   "source": [
    "scc = sc.SelScrape(headless=False)"
   ]
  },
  {
   "cell_type": "markdown",
   "metadata": {},
   "source": [
    "#### 1.02 navigate to the weather.com site for Fairfield, CT, and extract the hourly table element"
   ]
  },
  {
   "cell_type": "code",
   "execution_count": null,
   "metadata": {},
   "outputs": [],
   "source": [
    "w = 'https://weather.com/weather/hourbyhour/l/06824:4:US'\n",
    "scc.goto(w)\n",
    "p = '//table[@class=\"twc-table\"]/..'\n",
    "tws_table = scc.findxpath(p)\n"
   ]
  },
  {
   "cell_type": "markdown",
   "metadata": {},
   "source": [
    "#### 1.04 Get the html for that table, and create a pandas DataFrame from that html.\n",
    "* The ```pd.read_html``` method will get an array all tables from the html that you pass in the first argument.  \n",
    "* For this weather.com page, there is only one table, so you will access element index 0"
   ]
  },
  {
   "cell_type": "code",
   "execution_count": null,
   "metadata": {},
   "outputs": [],
   "source": [
    "html_table = tws_table['value'][0].get_attribute('innerHTML')\n",
    "array_of_df = pd.read_html(html_table)\n",
    "# only one element in this array, which holds the table\n",
    "df_hourly = array_of_df[0]\n"
   ]
  },
  {
   "cell_type": "markdown",
   "metadata": {},
   "source": [
    "#### 1.05 Fix the columns because the first column is all NaN's"
   ]
  },
  {
   "cell_type": "code",
   "execution_count": null,
   "metadata": {},
   "outputs": [],
   "source": [
    "# get all column objects but the last one\n",
    "cols = df_hourly.columns[:-1]\n",
    "# get rid of the first column of NaN's\n",
    "df_hourly = df_hourly[df_hourly.columns.values[1:]]\n",
    "# change the columns so that they now coincide with the data\n",
    "df_hourly.columns = cols\n",
    "# display the DataFrame\n",
    "df_hourly"
   ]
  },
  {
   "cell_type": "markdown",
   "metadata": {},
   "source": [
    "___\n",
    "### 2.0 Use SelScrape class to extract info about cars on Craigslist\n",
    "___"
   ]
  },
  {
   "cell_type": "markdown",
   "metadata": {},
   "source": [
    "#### 2.01 Create a search URL by combining the \"route\" and the \"parameters\" of the url."
   ]
  },
  {
   "cell_type": "code",
   "execution_count": null,
   "metadata": {},
   "outputs": [],
   "source": [
    "craig_url_base = \"https://sfbay.craigslist.org/search/cta?\"\n",
    "craig_url_parameters = [\"auto_make_model=BMW+328i\",\n",
    "                        \"sort=date\",\n",
    "                        \"max_auto_year=2010\",\n",
    "                        \"auto_transmission=auto_transmission_1\",\n",
    "                        \"min_auto_miles=0\",\n",
    "                        \"max_auto_miles=500000\"\n",
    "                       ]\n",
    "craig_url = craig_url_base + craig_url_parameters[0]\n",
    "for url_param in craig_url_parameters[1:]:\n",
    "    craig_url += '&' + url_param\n",
    "\n",
    "print(craig_url)"
   ]
  },
  {
   "cell_type": "markdown",
   "metadata": {},
   "source": [
    "#### 2.02 Retrieve this page"
   ]
  },
  {
   "cell_type": "code",
   "execution_count": null,
   "metadata": {},
   "outputs": [],
   "source": [
    "scc.goto(craig_url)"
   ]
  },
  {
   "cell_type": "markdown",
   "metadata": {},
   "source": [
    "#### 2.02 Get all of the possible links to matches of the above search url.  _However, only show info from first match_"
   ]
  },
  {
   "cell_type": "code",
   "execution_count": null,
   "metadata": {},
   "outputs": [],
   "source": [
    "# a_link_array  = scc.driver.find_elements_by_xpath(\"//a[@class='result-title hdrlnk']\")\n",
    "a_link_array  = scc.findxpath(\"//a[@class='result-title hdrlnk']\")['value']\n",
    "# goto the href link on the first match (index 0)\n",
    "hr = a_link_array[0].get_attribute(\"href\")\n",
    "scc.goto(hr)"
   ]
  },
  {
   "cell_type": "markdown",
   "metadata": {},
   "source": [
    "#### 2.03 Create a dictionary that holds the xpath of every attribute that you want to find on this results page."
   ]
  },
  {
   "cell_type": "code",
   "execution_count": null,
   "metadata": {},
   "outputs": [],
   "source": [
    "dict_things_to_get = {\n",
    "    'price':\"//span[@class='postingtitletext']/span[@class='price']\",\n",
    "    'page_title':\"//span[@class='postingtitletext']/span[@id='titletextonly']\",\n",
    "    'auto_condition':'//section[@class=\"userbody\"]/div[@class=\"mapAndAttrs\"]/p[@class=\"attrgroup\"]/span[contains(text(),\"condition\")]/b',\n",
    "    'cylinders':'//section[@class=\"userbody\"]/div[@class=\"mapAndAttrs\"]/p[@class=\"attrgroup\"]/span[contains(text(),\"cylinders\")]/b',\n",
    "    'drive':'//section[@class=\"userbody\"]/div[@class=\"mapAndAttrs\"]/p[@class=\"attrgroup\"]/span[contains(text(),\"drive\")]/b',\n",
    "    'fuel':'//section[@class=\"userbody\"]/div[@class=\"mapAndAttrs\"]/p[@class=\"attrgroup\"]/span[contains(text(),\"fuel\")]/b',\n",
    "    'odometer':'//section[@class=\"userbody\"]/div[@class=\"mapAndAttrs\"]/p[@class=\"attrgroup\"]/span[contains(text(),\"odometer\")]/b',\n",
    "    'paint_color':'//section[@class=\"userbody\"]/div[@class=\"mapAndAttrs\"]/p[@class=\"attrgroup\"]/span[contains(text(),\"paint color\")]/b',\n",
    "    'title_status':'//section[@class=\"userbody\"]/div[@class=\"mapAndAttrs\"]/p[@class=\"attrgroup\"]/span[contains(text(),\"title status\")]/b',\n",
    "    'transmission':'//section[@class=\"userbody\"]/div[@class=\"mapAndAttrs\"]/p[@class=\"attrgroup\"]/span[contains(text(),\"transmission\")]/b',\n",
    "    'posted_full_text':\"//section[@id='postingbody']\",\n",
    "}"
   ]
  },
  {
   "cell_type": "markdown",
   "metadata": {},
   "source": [
    "#### 2.04 Print out the above attributes"
   ]
  },
  {
   "cell_type": "code",
   "execution_count": null,
   "metadata": {},
   "outputs": [],
   "source": [
    "for k in dict_things_to_get.keys():\n",
    "    xpath = dict_things_to_get[k]\n",
    "    e = scc.findxpath(xpath)\n",
    "    if e['status'] is not None:\n",
    "        print(f\"{k}: {e['status']}\")\n",
    "        thing = 'not found'\n",
    "    else:        \n",
    "        thing = e['value'][0].text\n",
    "    print(f\"{k}: {thing}\")\n"
   ]
  },
  {
   "cell_type": "markdown",
   "metadata": {},
   "source": [
    "### 3.0 Now use the class CraigAccess, which uses SelScrape to do more complicated auto searches.\n",
    "**To search through every possible geo in the United States, remove the geos_csv_path argument from the CraigAcess constructor. See below.**\n",
    "```\n",
    "# import the craig_access module\n",
    "import craig_access as ca \n",
    "# create an instace of the CraigAccess class\n",
    "ca_bmw_635 = ca.CraigAccess(make='BMW',model='635',headless=False)\n",
    "# run the search by call the main method\n",
    "ca_bmw_635.main()\n",
    "```\n",
    "**Below is an example using other possible inputs to the CraigAccess constructor:**\n",
    "```\n",
    "# import the craig_access module\n",
    "import craig_access as ca \n",
    "# create an instace of the CraigAccess class\n",
    "ca_vw_beetle = CraigAccess(\n",
    "    headless=False, # show the browser\n",
    "    geos_csv_path=None, # use all geos. See ./df_geos_subset.csv for a smaller set\n",
    "    make='volkswagon', \n",
    "    model='beetle', \n",
    "    max_auto_year='1970', \n",
    "    max_auto_miles=300000, \n",
    "    auto_transmission=1,  # 1 = manual, 2 = automatic \n",
    "    )\n",
    "# run the search by call the main method\n",
    "ca_vw_beetle.main()\n",
    "\n",
    "```"
   ]
  },
  {
   "cell_type": "code",
   "execution_count": null,
   "metadata": {},
   "outputs": [],
   "source": [
    "import craig_access as ca"
   ]
  },
  {
   "cell_type": "markdown",
   "metadata": {},
   "source": [
    "#### 3.01 Search for bmw 635's for a limited set of geos as defined in the csv file df_geos_subset.csv"
   ]
  },
  {
   "cell_type": "code",
   "execution_count": null,
   "metadata": {},
   "outputs": [],
   "source": [
    "make = 'BMW'\n",
    "model = '635' # 328i, 5 series\n",
    "ca_bmw = ca.CraigAccess(make=make,model=model,geos_csv_path='./df_geos_subset.csv',headless=False)"
   ]
  },
  {
   "cell_type": "code",
   "execution_count": null,
   "metadata": {},
   "outputs": [],
   "source": [
    "df_bmws = ca_bmw.main()"
   ]
  },
  {
   "cell_type": "code",
   "execution_count": null,
   "metadata": {},
   "outputs": [],
   "source": [
    "df_bmws"
   ]
  },
  {
   "cell_type": "markdown",
   "metadata": {},
   "source": [
    "#### 3.02 Search all geos for bmw 2002, before 1970.  This takes a bit of time."
   ]
  },
  {
   "cell_type": "code",
   "execution_count": null,
   "metadata": {},
   "outputs": [],
   "source": [
    "import importlib\n",
    "importlib.reload(ca)"
   ]
  },
  {
   "cell_type": "code",
   "execution_count": null,
   "metadata": {},
   "outputs": [],
   "source": [
    "print(f'start search at {datetime.datetime.now()}')\n",
    "urls_only = False\n",
    "ca_bmw_2002 = ca.CraigAccess(headless=False,\n",
    "        make='BMW',\n",
    "        model='2002',\n",
    "        max_auto_year='1969', \n",
    "        max_auto_miles=300000,\n",
    "        urls_only=urls_only)\n",
    "df_bmw_2002 = ca_bmw_2002.main()\n",
    "print(f'end search at {datetime.datetime.now()}')"
   ]
  },
  {
   "cell_type": "code",
   "execution_count": null,
   "metadata": {},
   "outputs": [],
   "source": [
    "df_bmw_2002"
   ]
  }
 ],
 "metadata": {
  "kernelspec": {
   "display_name": "Python 3",
   "language": "python",
   "name": "python3"
  },
  "language_info": {
   "codemirror_mode": {
    "name": "ipython",
    "version": 3
   },
   "file_extension": ".py",
   "mimetype": "text/x-python",
   "name": "python",
   "nbconvert_exporter": "python",
   "pygments_lexer": "ipython3",
   "version": "3.6.5"
  }
 },
 "nbformat": 4,
 "nbformat_minor": 2
}
