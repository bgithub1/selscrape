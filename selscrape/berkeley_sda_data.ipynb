{
 "cells": [
  {
   "cell_type": "markdown",
   "metadata": {},
   "source": [
    "# berkeley_sda_data\n",
    "This notebook uses selenium to navigate through the Berkeley Survey Documentation and Analysis (SDA) to download Networth studies from the Survey of Consumer Finances (SCF) subsite.\n",
    "\n",
    "### Usage:\n",
    "1. Manually run each cell in Step 01.  This will result in you having to respond to the download dialog box from Firefox.\n",
    "2. Choose \"save file\", and then follow the instructions from cell Step 02.\n",
    "3. Then run the rest of the cells to see the graph of the data aggregation.\n",
    "\n",
    "### Important\n",
    "This version of sel_scrape and selenium probably will not work with versions of Firefox new than version 53.  To get that version for the Mac, see the project https://github.com/bgithub1/selscrape."
   ]
  },
  {
   "cell_type": "code",
   "execution_count": null,
   "metadata": {},
   "outputs": [],
   "source": [
    "import pandas as pd\n",
    "import numpy as np\n",
    "import plotly.graph_objs as go\n",
    "from plotly.graph_objs.layout import Font,Margin\n",
    "import plotly.graph_objs as go\n",
    "from plotly.offline import iplot\n",
    "from plotly.offline import  init_notebook_mode, iplot\n",
    "init_notebook_mode(connected=True)\n",
    "import sel_scrape as sc\n",
    "from selenium.webdriver.common.keys import Keys\n",
    "from selenium.webdriver.common.alert import Alert\n",
    "from selenium.webdriver.support.ui import WebDriverWait as wait\n",
    "from selenium.webdriver.support import expected_conditions as EC\n",
    "import time\n",
    "import pathlib"
   ]
  },
  {
   "cell_type": "markdown",
   "metadata": {},
   "source": [
    "### Step 01: Use selenium to navigate to the sda.berkeley.edu/sdaweb/analysis website, create subset of their networth data, and to click on the button that downloads the file.\n",
    "You must respond to the dialog box that the website generates to complete the download"
   ]
  },
  {
   "cell_type": "code",
   "execution_count": null,
   "metadata": {},
   "outputs": [],
   "source": [
    "SCF_HOME_PAGE='https://sda.berkeley.edu/sdaweb/analysis/?dataset=scfcomb'\n",
    "DOWNLOAD_CUSTOM_SUBSET_BUTTON = '//button[@id=\"top-form:cb-subset\"]'\n",
    "CSV_VIEW_XPATH = '//input[@type=\"radio\" and @value=\"CSV\"]'\n",
    "CODE_BOOK_XPATH = '//input[@id=\"subsetWizardForm:subsetTabview:codebook\"]'\n",
    "SELECT_VARIABLES_TAB_XPATH = '//a[contains(@href,\"selectvars\")]'\n",
    "SELECT_YEAR_XPATH = '//li[contains(@id,\"subsetTree:0\")]//span[contains(@class,\"ui-chkbox-icon\")]'\n",
    "SELECT_NETWORTH_XPATH = '//li[contains(@id,\"subsetTree:10\")]//span[contains(@class,\"ui-chkbox-icon\")]'\n",
    "CREATE_FILES_TAB_XPATH = '//a[contains(@href,\"createfiles\")]'\n",
    "SELECT_CREATE_BUTTON = '//span[contains(text(),\"Create Files\")]/parent::button'#'//button[contains(@id,\"j_idt1614\")]'\n",
    "SELECT_DOWNLOAD_BUTTON = '//span[contains(text(),\"Data file\")]/parent::button'#'//button[contains(@id,\"j_idt1620\")]'\n"
   ]
  },
  {
   "cell_type": "code",
   "execution_count": null,
   "metadata": {},
   "outputs": [],
   "source": [
    "h = pathlib.Path.home()\n",
    "pp=f'{h}/Library/Application Support/Google/Chrome/Default'\n",
    "sela = sc.SelScrape(headless=False,driver_name='chrome')#,profile_path=pp)\n",
    "# sela = sc.SelScrape(headless=False)\n",
    "sela.goto(SCF_HOME_PAGE)\n",
    "time.sleep(1)"
   ]
  },
  {
   "cell_type": "code",
   "execution_count": null,
   "metadata": {},
   "outputs": [],
   "source": [
    "sela.click_element(DOWNLOAD_CUSTOM_SUBSET_BUTTON)"
   ]
  },
  {
   "cell_type": "code",
   "execution_count": null,
   "metadata": {},
   "outputs": [],
   "source": [
    "sela.findxpath('//')"
   ]
  },
  {
   "cell_type": "code",
   "execution_count": null,
   "metadata": {},
   "outputs": [],
   "source": [
    "import pdb"
   ]
  },
  {
   "cell_type": "code",
   "execution_count": null,
   "metadata": {},
   "outputs": [],
   "source": [
    "web_page_download = sela.findxpath(DOWNLOAD_CUSTOM_SUBSET_BUTTON)\n",
    "if web_page_download['status'] is None:\n",
    "    sela.click_element(DOWNLOAD_CUSTOM_SUBSET_BUTTON)\n",
    "    time.sleep(1)\n",
    "    sela.click_element(CSV_VIEW_XPATH)\n",
    "    time.sleep(1)\n",
    "    sela.click_element(CODE_BOOK_XPATH)\n",
    "    time.sleep(1)\n",
    "    sela.click_element(SELECT_VARIABLES_TAB_XPATH)\n",
    "    time.sleep(2)\n",
    "    sela.click_element(SELECT_YEAR_XPATH)\n",
    "    time.sleep(1)\n",
    "    sela.click_element(SELECT_NETWORTH_XPATH) \n",
    "    time.sleep(2)\n",
    "    create_files_element = sela.findxpath(CREATE_FILES_TAB_XPATH)['value'][0]\n",
    "    sela.driver.execute_script(\"return arguments[0].scrollIntoView(true);\", create_files_element)\n",
    "    sela.click_element(CREATE_FILES_TAB_XPATH)\n",
    "    time.sleep(3)\n",
    "    sela.click_element(SELECT_CREATE_BUTTON)\n",
    "    time.sleep(5)\n",
    "    sela.click_element(SELECT_DOWNLOAD_BUTTON)    \n",
    "    time.sleep(5)"
   ]
  },
  {
   "cell_type": "markdown",
   "metadata": {},
   "source": [
    "### Step 02: Replace ```SDA_FILE_PATH``` below with the file that you downloaded, and run the other cells"
   ]
  },
  {
   "cell_type": "markdown",
   "metadata": {},
   "source": [
    "### !!!! Stop Here and navigate to the Firefox download dialog box and choose save file.  \n",
    "\n",
    "#### Then either replace the current file in this project named 'SCFP2016.csv' with your new file - keeping the same name of SCFP2016.csv, or set the variable ```SDA_FILE_PATH = your_new_path```"
   ]
  },
  {
   "cell_type": "code",
   "execution_count": null,
   "metadata": {},
   "outputs": [],
   "source": [
    "# force an error\n",
    "a = 5/0"
   ]
  },
  {
   "cell_type": "code",
   "execution_count": null,
   "metadata": {},
   "outputs": [],
   "source": [
    "file_folder = f'{pathlib.Path.home()}/downloads'\n",
    "# SDA_FILE_PATH = 'SCFP2016.csv'\n",
    "SDA_FILE_NAME = 'sub-data (2).txt'\n",
    "SDA_FILE_PATH = f'{file_folder}/{SDA_FILE_NAME}'\n"
   ]
  },
  {
   "cell_type": "code",
   "execution_count": null,
   "metadata": {},
   "outputs": [],
   "source": [
    "\n",
    "\n",
    "def plotly_plot(df_in,x_column,plot_title=None,\n",
    "                y_left_label=None,y_right_label=None,\n",
    "                bar_plot=False,figsize=(16,10),\n",
    "                number_of_ticks_display=20,\n",
    "                yaxis2_cols=None):\n",
    "    ya2c = [] if yaxis2_cols is None else yaxis2_cols\n",
    "    ycols = [c for c in df_in.columns.values if c != x_column]\n",
    "    # create tdvals, which will have x axis labels\n",
    "    td = list(df_in[x_column]) \n",
    "    nt = len(df_in)-1 if number_of_ticks_display > len(df_in) else number_of_ticks_display\n",
    "    spacing = len(td)//nt\n",
    "    tdvals = td[::spacing]\n",
    "    \n",
    "    # create data for graph\n",
    "    data = []\n",
    "    # iterate through all ycols to append to data that gets passed to go.Figure\n",
    "    for ycol in ycols:\n",
    "        if bar_plot:\n",
    "            b = go.Bar(x=td,y=df_in[ycol],name=ycol,yaxis='y' if ycol not in ya2c else 'y2')\n",
    "        else:\n",
    "            b = go.Scatter(x=td,y=df_in[ycol],name=ycol,yaxis='y' if ycol not in ya2c else 'y2')\n",
    "        data.append(b)\n",
    "\n",
    "    # create a layout\n",
    "    layout = go.Layout(\n",
    "        title=plot_title,\n",
    "        xaxis=dict(\n",
    "            ticktext=tdvals,\n",
    "            tickvals=tdvals,\n",
    "            tickangle=45,\n",
    "            type='category'),\n",
    "        yaxis=dict(\n",
    "            title='y main' if y_left_label is None else y_left_label\n",
    "        ),\n",
    "        yaxis2=dict(\n",
    "            title='y alt' if y_right_label is None else y_right_label,\n",
    "            overlaying='y',\n",
    "            side='right'),\n",
    "        margin=Margin(\n",
    "            b=100\n",
    "        )        \n",
    "    )\n",
    "\n",
    "    fig = go.Figure(data=data,layout=layout)\n",
    "    return fig\n"
   ]
  },
  {
   "cell_type": "markdown",
   "metadata": {},
   "source": [
    "ACCESS the Berkeley SDA SCFP2016 data"
   ]
  },
  {
   "cell_type": "code",
   "execution_count": null,
   "metadata": {},
   "outputs": [],
   "source": [
    "df = pd.read_csv(SDA_FILE_PATH)"
   ]
  },
  {
   "cell_type": "markdown",
   "metadata": {},
   "source": [
    "select the 12th network percentile category (higest 1% of networth) and extract out the net worth column"
   ]
  },
  {
   "cell_type": "code",
   "execution_count": null,
   "metadata": {},
   "outputs": [],
   "source": [
    "df[df.NWPCTLECAT==12].NETWORTH.sum()"
   ]
  },
  {
   "cell_type": "code",
   "execution_count": null,
   "metadata": {},
   "outputs": [],
   "source": [
    "sorted(df.columns.values)"
   ]
  },
  {
   "cell_type": "code",
   "execution_count": null,
   "metadata": {},
   "outputs": [],
   "source": [
    "df_agg = df[['NWPCTLECAT','NETWORTH']].groupby('NWPCTLECAT',as_index=False).sum()\n",
    "iplot(plotly_plot(df_agg,x_column='NWPCTLECAT',bar_plot=True,plot_title='Networth by Networth Category (12 is the richest)'))\n"
   ]
  },
  {
   "cell_type": "code",
   "execution_count": null,
   "metadata": {},
   "outputs": [],
   "source": [
    "df[df.NWPCTLECAT==12].NETWORTH.sum()"
   ]
  },
  {
   "cell_type": "code",
   "execution_count": null,
   "metadata": {},
   "outputs": [],
   "source": []
  }
 ],
 "metadata": {
  "kernelspec": {
   "display_name": "Python 3",
   "language": "python",
   "name": "python3"
  },
  "language_info": {
   "codemirror_mode": {
    "name": "ipython",
    "version": 3
   },
   "file_extension": ".py",
   "mimetype": "text/x-python",
   "name": "python",
   "nbconvert_exporter": "python",
   "pygments_lexer": "ipython3",
   "version": "3.6.5"
  }
 },
 "nbformat": 4,
 "nbformat_minor": 2
}
