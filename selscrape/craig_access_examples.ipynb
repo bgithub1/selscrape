{
 "cells": [
  {
   "cell_type": "markdown",
   "metadata": {},
   "source": [
    "## Examples \n",
    "1. Use the class CraigAccess to get a fully detailed pandas DataFrame of car info from craigslist"
   ]
  },
  {
   "cell_type": "code",
   "execution_count": 1,
   "metadata": {},
   "outputs": [],
   "source": [
    "import sel_scrape as sc\n",
    "import craig_access as ca\n",
    "import pandas as pd\n",
    "import datetime"
   ]
  },
  {
   "cell_type": "code",
   "execution_count": 2,
   "metadata": {},
   "outputs": [],
   "source": [
    "pd.set_option('display.max_colwidth', -1)"
   ]
  },
  {
   "cell_type": "code",
   "execution_count": 4,
   "metadata": {},
   "outputs": [],
   "source": [
    "make = 'BMW'\n",
    "model = '635' # 328i, 5 series\n",
    "ca_bmw_635 = ca.CraigAccess(make=make,model=model,headless=False)"
   ]
  },
  {
   "cell_type": "code",
   "execution_count": 5,
   "metadata": {},
   "outputs": [
    {
     "name": "stderr",
     "output_type": "stream",
     "text": [
      "2020-01-10 15:44:06,567 - root - INFO - ca_main starting 0000 -  713 time 2020-01-10 15:44:06.566963\n",
      "2020-01-10 15:44:06,567 - root - INFO - ca_main starting 0000 -  713 time 2020-01-10 15:44:06.566963\n",
      "2020-01-10 15:44:24,186 - root - INFO - processing href: https://losangeles.craigslist.org/lac/cto/d/glendale-1986-bmw-635csi/7037319747.html\n",
      "2020-01-10 15:44:24,186 - root - INFO - processing href: https://losangeles.craigslist.org/lac/cto/d/glendale-1986-bmw-635csi/7037319747.html\n",
      "2020-01-10 15:44:26,035 - root - INFO - processing href: https://losangeles.craigslist.org/lac/cto/d/glendale-1986-bmw-635csi/7037319747.html\n",
      "2020-01-10 15:44:26,035 - root - INFO - processing href: https://losangeles.craigslist.org/lac/cto/d/glendale-1986-bmw-635csi/7037319747.html\n",
      "2020-01-10 15:44:27,084 - root - INFO - processing href: https://losangeles.craigslist.org/lac/cto/d/glendale-1986-bmw-635csi/7037319747.html\n",
      "2020-01-10 15:44:27,084 - root - INFO - processing href: https://losangeles.craigslist.org/lac/cto/d/glendale-1986-bmw-635csi/7037319747.html\n",
      "2020-01-10 15:44:29,120 - root - INFO - processing href: https://sfbay.craigslist.org/eby/cto/d/piedmont-bmw-csi/7050912702.html\n",
      "2020-01-10 15:44:29,120 - root - INFO - processing href: https://sfbay.craigslist.org/eby/cto/d/piedmont-bmw-csi/7050912702.html\n",
      "2020-01-10 15:44:30,424 - root - INFO - processing href: https://sfbay.craigslist.org/eby/cto/d/piedmont-bmw-csi/7050912702.html\n",
      "2020-01-10 15:44:30,424 - root - INFO - processing href: https://sfbay.craigslist.org/eby/cto/d/piedmont-bmw-csi/7050912702.html\n",
      "2020-01-10 15:44:31,406 - root - INFO - processing href: https://losangeles.craigslist.org/lac/cto/d/glendale-1986-bmw-635csi/7037319747.html\n",
      "2020-01-10 15:44:31,406 - root - INFO - processing href: https://losangeles.craigslist.org/lac/cto/d/glendale-1986-bmw-635csi/7037319747.html\n",
      "2020-01-10 15:44:32,536 - root - INFO - processing href: https://losangeles.craigslist.org/lac/cto/d/glendale-1986-bmw-635csi/7037319747.html\n",
      "2020-01-10 15:44:32,536 - root - INFO - processing href: https://losangeles.craigslist.org/lac/cto/d/glendale-1986-bmw-635csi/7037319747.html\n",
      "2020-01-10 15:44:34,007 - root - INFO - processing href: https://sfbay.craigslist.org/eby/cto/d/piedmont-bmw-csi/7050912702.html\n",
      "2020-01-10 15:44:34,007 - root - INFO - processing href: https://sfbay.craigslist.org/eby/cto/d/piedmont-bmw-csi/7050912702.html\n",
      "2020-01-10 15:44:35,087 - root - INFO - processing href: https://losangeles.craigslist.org/lac/cto/d/glendale-1986-bmw-635csi/7037319747.html\n",
      "2020-01-10 15:44:35,087 - root - INFO - processing href: https://losangeles.craigslist.org/lac/cto/d/glendale-1986-bmw-635csi/7037319747.html\n",
      "2020-01-10 15:44:36,092 - root - INFO - processing href: https://sfbay.craigslist.org/eby/cto/d/piedmont-bmw-csi/7050912702.html\n",
      "2020-01-10 15:44:36,092 - root - INFO - processing href: https://sfbay.craigslist.org/eby/cto/d/piedmont-bmw-csi/7050912702.html\n",
      "2020-01-10 15:44:38,117 - root - INFO - processing href: https://losangeles.craigslist.org/lac/cto/d/glendale-1986-bmw-635csi/7037319747.html\n",
      "2020-01-10 15:44:38,117 - root - INFO - processing href: https://losangeles.craigslist.org/lac/cto/d/glendale-1986-bmw-635csi/7037319747.html\n",
      "2020-01-10 15:44:40,309 - root - INFO - processing href: https://sfbay.craigslist.org/eby/cto/d/piedmont-bmw-csi/7050912702.html\n",
      "2020-01-10 15:44:40,309 - root - INFO - processing href: https://sfbay.craigslist.org/eby/cto/d/piedmont-bmw-csi/7050912702.html\n",
      "2020-01-10 15:44:41,879 - root - INFO - processing href: https://losangeles.craigslist.org/lac/cto/d/glendale-1986-bmw-635csi/7037319747.html\n",
      "2020-01-10 15:44:41,879 - root - INFO - processing href: https://losangeles.craigslist.org/lac/cto/d/glendale-1986-bmw-635csi/7037319747.html\n",
      "2020-01-10 15:44:55,142 - root - INFO - processing href: https://tampa.craigslist.org/pnl/cto/d/saint-petersburg-bmw-series/7050757565.html\n",
      "2020-01-10 15:44:55,142 - root - INFO - processing href: https://tampa.craigslist.org/pnl/cto/d/saint-petersburg-bmw-series/7050757565.html\n",
      "2020-01-10 15:44:56,621 - root - INFO - processing href: https://tampa.craigslist.org/pnl/cto/d/saint-petersburg-bmw-series/7050757565.html\n",
      "2020-01-10 15:44:56,621 - root - INFO - processing href: https://tampa.craigslist.org/pnl/cto/d/saint-petersburg-bmw-series/7050757565.html\n",
      "2020-01-10 15:44:58,020 - root - INFO - processing href: https://tampa.craigslist.org/pnl/cto/d/saint-petersburg-bmw-series/7050757565.html\n",
      "2020-01-10 15:44:58,020 - root - INFO - processing href: https://tampa.craigslist.org/pnl/cto/d/saint-petersburg-bmw-series/7050757565.html\n",
      "2020-01-10 15:45:01,120 - root - INFO - processing href: https://tampa.craigslist.org/pnl/cto/d/saint-petersburg-bmw-series/7050757565.html\n",
      "2020-01-10 15:45:01,120 - root - INFO - processing href: https://tampa.craigslist.org/pnl/cto/d/saint-petersburg-bmw-series/7050757565.html\n",
      "2020-01-10 15:45:02,858 - root - INFO - processing href: https://tampa.craigslist.org/pnl/cto/d/saint-petersburg-bmw-series/7050757565.html\n",
      "2020-01-10 15:45:02,858 - root - INFO - processing href: https://tampa.craigslist.org/pnl/cto/d/saint-petersburg-bmw-series/7050757565.html\n",
      "2020-01-10 15:45:05,282 - root - INFO - processing href: https://tampa.craigslist.org/pnl/cto/d/saint-petersburg-bmw-series/7050757565.html\n",
      "2020-01-10 15:45:05,282 - root - INFO - processing href: https://tampa.craigslist.org/pnl/cto/d/saint-petersburg-bmw-series/7050757565.html\n",
      "2020-01-10 15:45:07,563 - root - INFO - processing href: https://greenville.craigslist.org/cto/d/greer-1988-bmw-635-csi/7049891820.html\n",
      "2020-01-10 15:45:07,563 - root - INFO - processing href: https://greenville.craigslist.org/cto/d/greer-1988-bmw-635-csi/7049891820.html\n",
      "2020-01-10 15:45:09,815 - root - INFO - processing href: https://greenville.craigslist.org/cto/d/greer-1988-bmw-635-csi/7049891820.html\n",
      "2020-01-10 15:45:09,815 - root - INFO - processing href: https://greenville.craigslist.org/cto/d/greer-1988-bmw-635-csi/7049891820.html\n",
      "2020-01-10 15:46:48,865 - root - INFO - processing href: https://greenville.craigslist.org/cto/d/greer-1988-bmw-635-csi/7049891820.html\n",
      "2020-01-10 15:46:48,865 - root - INFO - processing href: https://greenville.craigslist.org/cto/d/greer-1988-bmw-635-csi/7049891820.html\n",
      "2020-01-10 15:46:50,604 - root - INFO - processing href: https://greenville.craigslist.org/cto/d/greer-1988-bmw-635-csi/7049891820.html\n",
      "2020-01-10 15:46:50,604 - root - INFO - processing href: https://greenville.craigslist.org/cto/d/greer-1988-bmw-635-csi/7049891820.html\n",
      "2020-01-10 15:46:53,450 - root - INFO - processing href: https://greenville.craigslist.org/cto/d/greer-1988-bmw-635-csi/7049891820.html\n",
      "2020-01-10 15:46:53,450 - root - INFO - processing href: https://greenville.craigslist.org/cto/d/greer-1988-bmw-635-csi/7049891820.html\n",
      "2020-01-10 15:46:54,673 - root - INFO - processing href: https://myrtlebeach.craigslist.org/cto/d/pawleys-island-1985-bmw-635csi/7052027592.html\n",
      "2020-01-10 15:46:54,673 - root - INFO - processing href: https://myrtlebeach.craigslist.org/cto/d/pawleys-island-1985-bmw-635csi/7052027592.html\n",
      "2020-01-10 15:46:57,429 - root - INFO - processing href: https://myrtlebeach.craigslist.org/cto/d/pawleys-island-1985-bmw-635csi/7052027592.html\n",
      "2020-01-10 15:46:57,429 - root - INFO - processing href: https://myrtlebeach.craigslist.org/cto/d/pawleys-island-1985-bmw-635csi/7052027592.html\n",
      "2020-01-10 15:47:25,839 - root - INFO - processing href: https://myrtlebeach.craigslist.org/cto/d/pawleys-island-1985-bmw-635csi/7052027592.html\n",
      "2020-01-10 15:47:25,839 - root - INFO - processing href: https://myrtlebeach.craigslist.org/cto/d/pawleys-island-1985-bmw-635csi/7052027592.html\n",
      "2020-01-10 15:47:26,961 - root - INFO - processing href: https://greenville.craigslist.org/cto/d/greer-1988-bmw-635-csi/7049891820.html\n",
      "2020-01-10 15:47:26,961 - root - INFO - processing href: https://greenville.craigslist.org/cto/d/greer-1988-bmw-635-csi/7049891820.html\n",
      "2020-01-10 15:47:27,888 - root - INFO - processing href: https://myrtlebeach.craigslist.org/cto/d/pawleys-island-1985-bmw-635csi/7052027592.html\n",
      "2020-01-10 15:47:27,888 - root - INFO - processing href: https://myrtlebeach.craigslist.org/cto/d/pawleys-island-1985-bmw-635csi/7052027592.html\n"
     ]
    },
    {
     "name": "stderr",
     "output_type": "stream",
     "text": [
      "2020-01-10 15:47:28,671 - root - INFO - processing href: https://greenville.craigslist.org/cto/d/greer-1988-bmw-635-csi/7049891820.html\n",
      "2020-01-10 15:47:28,671 - root - INFO - processing href: https://greenville.craigslist.org/cto/d/greer-1988-bmw-635-csi/7049891820.html\n",
      "2020-01-10 15:47:30,026 - root - INFO - processing href: https://myrtlebeach.craigslist.org/cto/d/pawleys-island-1985-bmw-635csi/7052027592.html\n",
      "2020-01-10 15:47:30,026 - root - INFO - processing href: https://myrtlebeach.craigslist.org/cto/d/pawleys-island-1985-bmw-635csi/7052027592.html\n",
      "2020-01-10 15:47:35,514 - root - INFO - processing href: https://greenville.craigslist.org/cto/d/greer-1988-bmw-635-csi/7049891820.html\n",
      "2020-01-10 15:47:35,514 - root - INFO - processing href: https://greenville.craigslist.org/cto/d/greer-1988-bmw-635-csi/7049891820.html\n",
      "2020-01-10 15:52:00,733 - root - INFO - ca_main saving csv file to ./temp_folder/craigs_list_search_results_00_713.csv\n",
      "2020-01-10 15:52:00,733 - root - INFO - ca_main saving csv file to ./temp_folder/craigs_list_search_results_00_713.csv\n",
      "2020-01-10 15:52:00,739 - root - INFO - ca_main stopping 0000 -  713 time 2020-01-10 15:52:00.739054\n",
      "2020-01-10 15:52:00,739 - root - INFO - ca_main stopping 0000 -  713 time 2020-01-10 15:52:00.739054\n"
     ]
    }
   ],
   "source": [
    "df_bmws_635 = ca_bmw_635.main()"
   ]
  },
  {
   "cell_type": "code",
   "execution_count": null,
   "metadata": {},
   "outputs": [],
   "source": [
    "df_bmws_635.drop_duplicates(subset='page_title').href"
   ]
  },
  {
   "cell_type": "markdown",
   "metadata": {},
   "source": [
    "#### 3.02 Search all geos for bmw 2002, before 1970.  This takes a bit of time."
   ]
  },
  {
   "cell_type": "code",
   "execution_count": null,
   "metadata": {},
   "outputs": [],
   "source": [
    "print(f'start search at {datetime.datetime.now()}')\n",
    "urls_only = False\n",
    "ca_bmw_2002 = ca.CraigAccess(headless=False,\n",
    "        make='BMW',\n",
    "        model='2002')\n",
    "df_bmw_2002 = ca_bmw_2002.main()\n",
    "print(f'end search at {datetime.datetime.now()}')"
   ]
  },
  {
   "cell_type": "code",
   "execution_count": null,
   "metadata": {},
   "outputs": [],
   "source": [
    "df_bmw_2002.drop_duplicates(subset='page_title').href"
   ]
  },
  {
   "cell_type": "code",
   "execution_count": null,
   "metadata": {},
   "outputs": [],
   "source": [
    "print(f'start search at {datetime.datetime.now()}')\n",
    "urls_only = False\n",
    "ca_bmw_5_series = ca.CraigAccess(headless=False,\n",
    "        make='BMW',\n",
    "        model='5+series',max_auto_year=2000)\n",
    "df_bmw_5_series = ca_bmw_5_series.main()\n",
    "print(f'end search at {datetime.datetime.now()}')"
   ]
  },
  {
   "cell_type": "code",
   "execution_count": null,
   "metadata": {},
   "outputs": [],
   "source": [
    "df_bmw_5_series.drop_duplicates(subset='page_title').href"
   ]
  },
  {
   "cell_type": "code",
   "execution_count": null,
   "metadata": {},
   "outputs": [],
   "source": []
  }
 ],
 "metadata": {
  "kernelspec": {
   "display_name": "Python 3",
   "language": "python",
   "name": "python3"
  },
  "language_info": {
   "codemirror_mode": {
    "name": "ipython",
    "version": 3
   },
   "file_extension": ".py",
   "mimetype": "text/x-python",
   "name": "python",
   "nbconvert_exporter": "python",
   "pygments_lexer": "ipython3",
   "version": "3.6.5"
  }
 },
 "nbformat": 4,
 "nbformat_minor": 2
}
